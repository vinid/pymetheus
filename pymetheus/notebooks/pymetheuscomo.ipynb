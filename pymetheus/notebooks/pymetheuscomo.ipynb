{
 "cells": [
  {
   "cell_type": "code",
   "execution_count": 26,
   "metadata": {
    "pycharm": {
     "is_executing": false
    }
   },
   "outputs": [],
   "source": [
    "import pymetheus\n",
    "from pymetheus.pymetheus import LogicNet\n",
    "import numpy as np\n",
    "ll = LogicNet()"
   ]
  },
  {
   "cell_type": "code",
   "execution_count": 27,
   "metadata": {
    "pycharm": {
     "is_executing": false
    }
   },
   "outputs": [
    {
     "name": "stdout",
     "text": [
      "0.1.0\n"
     ],
     "output_type": "stream"
    }
   ],
   "source": [
    "print(pymetheus.__version__)\n",
    "ll.constant('John', definition=np.random.normal(0,.1,size=2))\n",
    "ll.constant('Jim', definition=np.random.normal(0,.1,size=2))\n",
    "ll.constant('Jack', definition=np.random.normal(0,.1,size=2))\n",
    "ll.constant('Mary', definition=np.random.normal(1,.1,size=2))\n",
    "ll.constant('Meggy', definition=np.random.normal(1,.1,size=2))\n",
    "ll.constant('Mina', definition=np.random.normal(1,.1,size=2))"
   ]
  },
  {
   "cell_type": "code",
   "execution_count": 28,
   "metadata": {
    "pycharm": {
     "is_executing": false
    }
   },
   "outputs": [],
   "source": [
    "ll.constant('Person1', definition=np.random.normal(0.5,.1,size=2), optimize=True)\n",
    "ll.constant('Person2', definition=np.random.normal(0.5,.1,size=2), optimize=True)"
   ]
  },
  {
   "cell_type": "code",
   "execution_count": 29,
   "metadata": {
    "pycharm": {
     "is_executing": false
    }
   },
   "outputs": [
    {
     "name": "stdout",
     "text": [
      "John tensor([ 0.0014, -0.0025])\nJim ",
      "tensor([-0.0820,  0.0313])\nJack tensor([ 0.0115, -0.0861])\nMary tensor([1.0098, 1.0449])\nMeggy tensor([0.9280, 0.9954])\nMina tensor([0.9426, 0.8626])\nPerson1 tensor([0.5421, 0.3958], requires_grad=True)\nPerson2 tensor([0.5685, 0.4390], requires_grad=True)\n[[ 0.00136382 -0.00246866]\n [-0.08195998  0.03129887]\n [ 0.0114631  -0.08605138]\n [ 1.0097874   1.0448844 ]\n [ 0.928031    0.9954015 ]\n [ 0.94255203  0.86263806]\n [ 0.54205734  0.39575934]\n [ 0.56845635  0.43896714]]\n[ 0.00136382 -0.08195998  0.0114631 ]\n"
     ],
     "output_type": "stream"
    }
   ],
   "source": [
    "for a,b in ll.constants.items():\n",
    "    print(a,b)\n",
    "values_of_constants = np.array([b.cpu().detach().numpy() for a,b in ll.constants.items()])\n",
    "print(values_of_constants)\n",
    "print(values_of_constants[:3,0])"
   ]
  },
  {
   "cell_type": "code",
   "execution_count": 29,
   "outputs": [],
   "source": [],
   "metadata": {
    "collapsed": false,
    "pycharm": {
     "name": "#%%\n",
     "is_executing": false
    }
   }
  },
  {
   "cell_type": "code",
   "execution_count": 30,
   "metadata": {
    "pycharm": {
     "is_executing": false
    }
   },
   "outputs": [
    {
     "data": {
      "text/plain": "<Figure size 432x288 with 1 Axes>",
      "image/png": "[encoded data removed]"
     },
     "metadata": {
      "needs_background": "light"
     },
     "output_type": "display_data"
    }
   ],
   "source": [
    "import matplotlib.pyplot as plt\n",
    "%matplotlib inline\n",
    "values_of_constants = np.array([b.detach().cpu().numpy() for a,b in ll.constants.items()])\n",
    "plt.scatter(values_of_constants[:3,0],values_of_constants[:3,1],c='b')\n",
    "\n",
    "plt.scatter(values_of_constants[3:6,0],values_of_constants[3:6,1],c='r')\n",
    "plt.scatter(values_of_constants[6:,0],values_of_constants[6:,1],c='k')\n",
    "\n",
    "for a,b in ll.constants.items():\n",
    "    plt.annotate(a,b.detach().cpu().numpy()+.01)\n",
    "plt.title(\"Featurs of the constants John, ..., Mary, ... Person1, Person2\")\n",
    "plt.show()\n"
   ]
  },
  {
   "cell_type": "code",
   "execution_count": 31,
   "metadata": {
    "pycharm": {
     "is_executing": false
    }
   },
   "outputs": [],
   "source": [
    "ll.predicate('Male', arity=1, argument_size = 2) # A is a unary predicate on objects with 2 features\n",
    "ll.predicate('Female', arity=1, argument_size = 2) # B is a unary predicato on objects with 2 features\n",
    "ll.predicate('CanPlayWith', arity=2, argument_size = 2) # R is a binary relation on objects with 2 features "
   ]
  },
  {
   "cell_type": "code",
   "execution_count": 32,
   "metadata": {
    "pycharm": {
     "is_executing": false
    }
   },
   "outputs": [
    {
     "name": "stdout",
     "text": [
      "0.47112963\n0.4249513\n0.46888733\n0.5866519\n0.5013789\n"
     ],
     "output_type": "stream"
    }
   ],
   "source": [
    "print(ll.reason('Male(John)'))\n",
    "print(ll.reason('Female(John)'))\n",
    "print(ll.reason('Male(Jack)'))\n",
    "print(ll.reason('Female(Mary)'))\n",
    "print(ll.reason('CanPlayWith(John,Mary)'))"
   ]
  },
  {
   "cell_type": "code",
   "execution_count": 33,
   "metadata": {
    "pycharm": {
     "is_executing": false
    }
   },
   "outputs": [
    {
     "data": {
      "text/plain": "array([[0.47112963],\n       [0.47525075],\n       [0.46888733],\n       [0.5054841 ],\n       [0.5005226 ],\n       [0.5049931 ],\n       [0.4748423 ],\n       [0.47603604]], dtype=float32)"
     },
     "metadata": {},
     "output_type": "execute_result",
     "execution_count": 33
    }
   ],
   "source": [
    "import numpy as np\n",
    "men = np.array([np.array([ll.reason('Male({})'.format(a))]) for a, b in ll.constants.items()])\n",
    "women = np.array([np.array([ll.reason('Female({})'.format(a))]) for a, b in ll.constants.items()])\n",
    "men"
   ]
  },
  {
   "cell_type": "code",
   "execution_count": 34,
   "metadata": {
    "pycharm": {
     "is_executing": false
    }
   },
   "outputs": [
    {
     "data": {
      "text/plain": "<Figure size 432x288 with 1 Axes>",
      "image/png": "[encoded data removed]"
     },
     "metadata": {
      "needs_background": "light"
     },
     "output_type": "display_data"
    }
   ],
   "source": [
    "fig, ax = plt.subplots()\n",
    "ax.bar(np.arange(len(ll.constants))-.1,men[:,0],width=.2,label=\"Male\")\n",
    "ax.bar(np.arange(len(ll.constants))+.1,women[:,0],width=.2,label=\"Female\")\n",
    "ax.set_xticks(np.arange(len(ll.constants)))\n",
    "ax.set_xticklabels(ll.constants.keys(),rotation='vertical')\n",
    "ax.set_ylabel(\"Truth value\")\n",
    "ax.set_ylim(0,1)\n",
    "ax.legend()\n",
    "plt.show()"
   ]
  },
  {
   "cell_type": "code",
   "execution_count": 35,
   "metadata": {
    "pycharm": {
     "is_executing": false
    }
   },
   "outputs": [
    {
     "data": {
      "text/plain": "<Figure size 432x288 with 2 Axes>",
      "image/png": "[encoded data removed]"
     },
     "metadata": {
      "needs_background": "light"
     },
     "output_type": "display_data"
    }
   ],
   "source": [
    "play = np.array([[ll.reason('CanPlayWith({},{})'.format(c,d)) \n",
    "                  for c in ll.constants.keys()] for d in ll.constants.keys()])\n",
    "import seaborn as sns\n",
    "plt.clf()\n",
    "ax = sns.heatmap(play, linewidth=0.5)\n",
    "ax.set_yticklabels(ll.constants.keys(),rotation='horizontal')\n",
    "ax.set_xticklabels(ll.constants.keys(),rotation='vertical')\n",
    "plt.show()"
   ]
  },
  {
   "cell_type": "code",
   "execution_count": 36,
   "metadata": {
    "pycharm": {
     "is_executing": false
    }
   },
   "outputs": [],
   "source": [
    "ll.knowledge(\"Male(John)\")\n",
    "ll.knowledge(\"Male(Jack)\")\n",
    "ll.knowledge('~Male(Mary)')\n",
    "ll.knowledge('~Male(Meggy)')\n",
    "ll.knowledge('Female(Mary)')\n",
    "ll.knowledge('Female(Meggy)')\n",
    "ll.knowledge('~Female(John)')\n",
    "ll.knowledge('~Female(Jack)')\n",
    "ll.knowledge('CanPlayWith(John,Mary)')\n",
    "ll.knowledge('CanPlayWith(Meggy,Jack)')\n",
    "ll.knowledge('~CanPlayWith(Meggy,Mary)')\n",
    "ll.knowledge('~CanPlayWith(Jim,Jack)')\n",
    "ll.knowledge('CanPlayWith(Person1,Jim)')\n",
    "ll.knowledge('CanPlayWith(Person2,Mina)')"
   ]
  },
  {
   "cell_type": "code",
   "execution_count": 37,
   "metadata": {
    "pycharm": {
     "is_executing": false
    }
   },
   "outputs": [
    {
     "data": {
      "text/plain": "0.51776147"
     },
     "metadata": {},
     "output_type": "execute_result",
     "execution_count": 37
    }
   ],
   "source": [
    "ll.reason(\"CanPlayWith(Person2,Mary)\")"
   ]
  },
  {
   "cell_type": "code",
   "execution_count": 38,
   "metadata": {
    "pycharm": {
     "is_executing": false
    }
   },
   "outputs": [
    {
     "data": {
      "text/plain": "<Figure size 432x288 with 2 Axes>",
      "image/png": "[encoded data removed]"
     },
     "metadata": {
      "needs_background": "light"
     },
     "output_type": "display_data"
    }
   ],
   "source": [
    "play = np.array([[ll.reason('CanPlayWith({},{})'.format(c,d)) \n",
    "                  for c in ll.constants.keys()] for d in ll.constants.keys()])\n",
    "import seaborn as sns\n",
    "plt.clf()\n",
    "ax = sns.heatmap(play, linewidth=0.5)\n",
    "ax.set_yticklabels(ll.constants.keys(),rotation='horizontal')\n",
    "ax.set_xticklabels(ll.constants.keys(),rotation='vertical')\n",
    "plt.show()"
   ]
  },
  {
   "cell_type": "code",
   "execution_count": 39,
   "metadata": {
    "pycharm": {
     "is_executing": false
    }
   },
   "outputs": [],
   "source": [
    "import numpy as np\n",
    "men = np.array([np.array([ll.reason('Male({})'.format(a))]) for a, b in ll.constants.items()])\n",
    "women = np.array([np.array([ll.reason('Female({})'.format(a))]) for a, b in ll.constants.items()])"
   ]
  },
  {
   "cell_type": "code",
   "execution_count": 40,
   "metadata": {
    "pycharm": {
     "is_executing": false
    }
   },
   "outputs": [
    {
     "data": {
      "text/plain": "<Figure size 432x288 with 1 Axes>",
      "image/png": "[encoded data removed]"
     },
     "metadata": {
      "needs_background": "light"
     },
     "output_type": "display_data"
    }
   ],
   "source": [
    "fig, ax = plt.subplots()\n",
    "ax.bar(np.arange(len(ll.constants))-.1,men[:,0],width=.2,label=\"Male\")\n",
    "ax.bar(np.arange(len(ll.constants))+.1,women[:,0],width=.2,label=\"Female\")\n",
    "ax.set_xticks(np.arange(len(ll.constants)))\n",
    "ax.set_xticklabels(ll.constants.keys(),rotation='vertical')\n",
    "ax.set_ylabel(\"Truth value\")\n",
    "ax.set_ylim(0,1)\n",
    "ax.legend()\n",
    "plt.show()"
   ]
  },
  {
   "cell_type": "code",
   "execution_count": 41,
   "metadata": {
    "pycharm": {
     "is_executing": false
    }
   },
   "outputs": [
    {
     "data": {
      "text/plain": "<Figure size 432x288 with 1 Axes>",
      "image/png": "[encoded data removed]"
     },
     "metadata": {
      "needs_background": "light"
     },
     "output_type": "display_data"
    }
   ],
   "source": [
    "import matplotlib.pyplot as plt\n",
    "%matplotlib inline\n",
    "values_of_constants = np.array([b.detach().numpy() for a,b in ll.constants.items()])\n",
    "plt.scatter(values_of_constants[:3,0],values_of_constants[:3,1],c='b')\n",
    "plt.scatter(values_of_constants[3:6,0],values_of_constants[3:6,1],c='r')\n",
    "plt.scatter(values_of_constants[6:,0],values_of_constants[6:,1],c='k')\n",
    "\n",
    "for a,b in ll.constants.items():\n",
    "    plt.annotate(a,b.detach().numpy()+.01)\n",
    "plt.title(\"Featurs of the constants John, ..., Mary, ... Person1, Person2\")\n",
    "plt.show()\n"
   ]
  },
  {
   "cell_type": "code",
   "execution_count": 42,
   "metadata": {
    "pycharm": {
     "is_executing": false
    }
   },
   "outputs": [],
   "source": [
    "domain_of_variables = np.random.uniform(0,1,size=(100,2))\n",
    "ll.variable('?x', domain_of_variables, labelled=False)\n",
    "ll.variable('?y', domain_of_variables, labelled=False)\n"
   ]
  },
  {
   "cell_type": "code",
   "execution_count": 43,
   "metadata": {
    "pycharm": {
     "is_executing": false
    }
   },
   "outputs": [
    {
     "data": {
      "text/plain": "<Figure size 432x288 with 1 Axes>",
      "image/png": "[encoded data removed]"
     },
     "metadata": {
      "needs_background": "light"
     },
     "output_type": "display_data"
    }
   ],
   "source": [
    "plt.scatter(domain_of_variables[:,0],domain_of_variables[:,1])\n",
    "plt.show()"
   ]
  },
  {
   "cell_type": "code",
   "execution_count": 44,
   "metadata": {
    "pycharm": {
     "is_executing": false
    }
   },
   "outputs": [],
   "source": [
    "ll.universal_rule('forall ?x,?y: CanPlayWith(?x,?y) -> ((Male(?x) & Female(?y)) | (Female(?x) & Male(?y)))')\n",
    "\n",
    "ll.universal_rule('forall ?x,?y: ((Male(?x) & Female(?y)) -> CanPlayWith(?x,?y))')\n",
    "ll.universal_rule('forall ?x,?y: ((Female(?x) & Male(?y)) -> CanPlayWith(?x,?y))')\n",
    "ll.universal_rule('forall ?x,?y: (CanPlayWith(?x,?y) -> CanPlayWith(?y,?x))')\n",
    "ll.universal_rule('forall ?x: (Male(?x) % ~Female(?x))')\n",
    "\n",
    "\n"
   ]
  },
  {
   "cell_type": "code",
   "execution_count": 45,
   "outputs": [
    {
     "data": {
      "text/plain": "array(1., dtype=float32)"
     },
     "metadata": {},
     "output_type": "execute_result",
     "execution_count": 45
    }
   ],
   "source": [
    "ll.reason('forall ?x,?y: CanPlayWith(?x,?y) -> ((Male(?x) & Female(?y)) | (Female(?x) & Male(?y)))')"
   ],
   "metadata": {
    "collapsed": false,
    "pycharm": {
     "name": "#%%\n",
     "is_executing": false
    }
   }
  },
  {
   "cell_type": "code",
   "execution_count": 46,
   "metadata": {
    "scrolled": true,
    "pycharm": {
     "is_executing": false
    }
   },
   "outputs": [
    {
     "name": "stderr",
     "text": [
      "\n\n",
      "\r  0%|          | 0/1000 [00:00<?, ?it/s]",
      "\u001b[A\u001b[A",
      "\n\n",
      "\rCurrent Satisfiability 0.809376):   0%|          | 0/1000 [00:01<?, ?it/s]",
      "\u001b[A\u001b[A",
      "\n\n",
      "\rCurrent Satisfiability 0.809376):   0%|          | 1/1000 [00:01<20:19,  1.22s/it]",
      "\u001b[A\u001b[A",
      "\n\n",
      "\rCurrent Satisfiability 0.815346):   0%|          | 1/1000 [00:02<20:19,  1.22s/it]",
      "\u001b[A\u001b[A",
      "\n\n",
      "\rCurrent Satisfiability 0.815346):   0%|          | 2/1000 [00:02<20:05,  1.21s/it]",
      "\u001b[A\u001b[A",
      "\n\n",
      "\rCurrent Satisfiability 0.821105):   0%|          | 2/1000 [00:03<20:05,  1.21s/it]",
      "\u001b[A\u001b[A",
      "\n\n",
      "\rCurrent Satisfiability 0.821105):   0%|          | 3/1000 [00:03<20:08,  1.21s/it]",
      "\u001b[A\u001b[A",
      "\n\n",
      "\rCurrent Satisfiability 0.826120):   0%|          | 3/1000 [00:04<20:08,  1.21s/it]",
      "\u001b[A\u001b[A",
      "\n\n",
      "\rCurrent Satisfiability 0.826120):   0%|          | 4/1000 [00:04<20:18,  1.22s/it]",
      "\u001b[A\u001b[A",
      "\n\n",
      "\rCurrent Satisfiability 0.830527):   0%|          | 4/1000 [00:06<20:18,  1.22s/it]",
      "\u001b[A\u001b[A",
      "\n\n",
      "\rCurrent Satisfiability 0.830527):   0%|          | 5/1000 [00:06<20:08,  1.21s/it]",
      "\u001b[A\u001b[A",
      "\n\n",
      "\rCurrent Satisfiability 0.834634):   0%|          | 5/1000 [00:07<20:08,  1.21s/it]",
      "\u001b[A\u001b[A",
      "\n\n",
      "\rCurrent Satisfiability 0.834634):   1%|          | 6/1000 [00:07<20:03,  1.21s/it]",
      "\u001b[A\u001b[A",
      "\n\n",
      "\rCurrent Satisfiability 0.838669):   1%|          | 6/1000 [00:08<20:03,  1.21s/it]",
      "\u001b[A\u001b[A",
      "\n\n",
      "\rCurrent Satisfiability 0.838669):   1%|          | 7/1000 [00:08<19:40,  1.19s/it]",
      "\u001b[A\u001b[A",
      "\n\n",
      "\rCurrent Satisfiability 0.842768):   1%|          | 7/1000 [00:09<19:40,  1.19s/it]",
      "\u001b[A\u001b[A",
      "\n\n",
      "\rCurrent Satisfiability 0.842768):   1%|          | 8/1000 [00:09<19:49,  1.20s/it]",
      "\u001b[A\u001b[A",
      "\n\n",
      "\rCurrent Satisfiability 0.846785):   1%|          | 8/1000 [00:10<19:49,  1.20s/it]",
      "\u001b[A\u001b[A",
      "\n\n",
      "\rCurrent Satisfiability 0.846785):   1%|          | 9/1000 [00:10<19:35,  1.19s/it]",
      "\u001b[A\u001b[A",
      "\n\n",
      "\rCurrent Satisfiability 0.850799):   1%|          | 9/1000 [00:11<19:35,  1.19s/it]",
      "\u001b[A\u001b[A",
      "\n\n",
      "\rCurrent Satisfiability 0.850799):   1%|          | 10/1000 [00:11<19:28,  1.18s/it]",
      "\u001b[A\u001b[A",
      "\n\n",
      "\rCurrent Satisfiability 0.854794):   1%|          | 10/1000 [00:13<19:28,  1.18s/it]",
      "\u001b[A\u001b[A",
      "\n\n",
      "\rCurrent Satisfiability 0.854794):   1%|          | 11/1000 [00:13<19:08,  1.16s/it]",
      "\u001b[A\u001b[A",
      "\n\n",
      "\rCurrent Satisfiability 0.858534):   1%|          | 11/1000 [00:14<19:08,  1.16s/it]",
      "\u001b[A\u001b[A",
      "\n\n",
      "\rCurrent Satisfiability 0.858534):   1%|          | 12/1000 [00:14<19:12,  1.17s/it]",
      "\u001b[A\u001b[A",
      "\n\n",
      "\rCurrent Satisfiability 0.862200):   1%|          | 12/1000 [00:15<19:12,  1.17s/it]",
      "\u001b[A\u001b[A",
      "\n\n",
      "\rCurrent Satisfiability 0.862200):   1%|▏         | 13/1000 [00:15<19:12,  1.17s/it]",
      "\u001b[A\u001b[A",
      "\n\n",
      "\rCurrent Satisfiability 0.865737):   1%|▏         | 13/1000 [00:16<19:12,  1.17s/it]",
      "\u001b[A\u001b[A",
      "\n\n",
      "\rCurrent Satisfiability 0.865737):   1%|▏         | 14/1000 [00:16<19:43,  1.20s/it]",
      "\u001b[A\u001b[A",
      "\n\n",
      "\rCurrent Satisfiability 0.869341):   1%|▏         | 14/1000 [00:17<19:43,  1.20s/it]",
      "\u001b[A\u001b[A",
      "\n\n",
      "\rCurrent Satisfiability 0.869341):   2%|▏         | 15/1000 [00:17<19:34,  1.19s/it]",
      "\u001b[A\u001b[A",
      "\n\n",
      "\rCurrent Satisfiability 0.872974):   2%|▏         | 15/1000 [00:19<19:34,  1.19s/it]",
      "\u001b[A\u001b[A",
      "\n\n",
      "\rCurrent Satisfiability 0.872974):   2%|▏         | 16/1000 [00:19<19:25,  1.18s/it]",
      "\u001b[A\u001b[A",
      "\n\n",
      "\rCurrent Satisfiability 0.876562):   2%|▏         | 16/1000 [00:20<19:25,  1.18s/it]",
      "\u001b[A\u001b[A",
      "\n\n",
      "\rCurrent Satisfiability 0.876562):   2%|▏         | 17/1000 [00:20<19:08,  1.17s/it]",
      "\u001b[A\u001b[A",
      "\n\n",
      "\rCurrent Satisfiability 0.880160):   2%|▏         | 17/1000 [00:21<19:08,  1.17s/it]",
      "\u001b[A\u001b[A",
      "\n\n",
      "\rCurrent Satisfiability 0.880160):   2%|▏         | 18/1000 [00:21<18:59,  1.16s/it]",
      "\u001b[A\u001b[A",
      "\n\n",
      "\rCurrent Satisfiability 0.883765):   2%|▏         | 18/1000 [00:22<18:59,  1.16s/it]",
      "\u001b[A\u001b[A",
      "\n\n",
      "\rCurrent Satisfiability 0.883765):   2%|▏         | 19/1000 [00:22<18:59,  1.16s/it]",
      "\u001b[A\u001b[A",
      "\n\n",
      "\rCurrent Satisfiability 0.887385):   2%|▏         | 19/1000 [00:23<18:59,  1.16s/it]",
      "\u001b[A\u001b[A",
      "\n\n",
      "\rCurrent Satisfiability 0.887385):   2%|▏         | 20/1000 [00:23<18:55,  1.16s/it]",
      "\u001b[A\u001b[A",
      "\n\n",
      "\rCurrent Satisfiability 0.891048):   2%|▏         | 20/1000 [00:24<18:55,  1.16s/it]",
      "\u001b[A\u001b[A",
      "\n\n",
      "\rCurrent Satisfiability 0.891048):   2%|▏         | 21/1000 [00:24<19:16,  1.18s/it]",
      "\u001b[A\u001b[A",
      "\n\n",
      "\rCurrent Satisfiability 0.894579):   2%|▏         | 21/1000 [00:26<19:16,  1.18s/it]",
      "\u001b[A\u001b[A",
      "\n\n",
      "\rCurrent Satisfiability 0.894579):   2%|▏         | 22/1000 [00:26<19:20,  1.19s/it]",
      "\u001b[A\u001b[A",
      "\n\n",
      "\rCurrent Satisfiability 0.898183):   2%|▏         | 22/1000 [00:27<19:20,  1.19s/it]",
      "\u001b[A\u001b[A",
      "\n\n",
      "\rCurrent Satisfiability 0.898183):   2%|▏         | 23/1000 [00:27<19:32,  1.20s/it]",
      "\u001b[A\u001b[A",
      "\n\n",
      "\rCurrent Satisfiability 0.901841):   2%|▏         | 23/1000 [00:28<19:32,  1.20s/it]",
      "\u001b[A\u001b[A",
      "\n\n",
      "\rCurrent Satisfiability 0.901841):   2%|▏         | 24/1000 [00:28<19:36,  1.21s/it]",
      "\u001b[A\u001b[A",
      "\n\n",
      "\rCurrent Satisfiability 0.905454):   2%|▏         | 24/1000 [00:29<19:36,  1.21s/it]",
      "\u001b[A\u001b[A",
      "\n\n",
      "\rCurrent Satisfiability 0.905454):   2%|▎         | 25/1000 [00:29<20:15,  1.25s/it]",
      "\u001b[A\u001b[A",
      "\n\n",
      "\rCurrent Satisfiability 0.908957):   2%|▎         | 25/1000 [00:31<20:15,  1.25s/it]",
      "\u001b[A\u001b[A",
      "\n\n",
      "\rCurrent Satisfiability 0.908957):   3%|▎         | 26/1000 [00:31<20:04,  1.24s/it]",
      "\u001b[A\u001b[A",
      "\n\n",
      "\rCurrent Satisfiability 0.912412):   3%|▎         | 26/1000 [00:32<20:04,  1.24s/it]",
      "\u001b[A\u001b[A",
      "\n\n",
      "\rCurrent Satisfiability 0.912412):   3%|▎         | 27/1000 [00:32<19:49,  1.22s/it]",
      "\u001b[A\u001b[A",
      "\n\n",
      "\rCurrent Satisfiability 0.915749):   3%|▎         | 27/1000 [00:33<19:49,  1.22s/it]",
      "\u001b[A\u001b[A",
      "\n\n",
      "\rCurrent Satisfiability 0.915749):   3%|▎         | 28/1000 [00:33<19:54,  1.23s/it]",
      "\u001b[A\u001b[A",
      "\n\n",
      "\rCurrent Satisfiability 0.919072):   3%|▎         | 28/1000 [00:34<19:54,  1.23s/it]",
      "\u001b[A\u001b[A",
      "\n\n",
      "\rCurrent Satisfiability 0.919072):   3%|▎         | 29/1000 [00:34<19:40,  1.22s/it]",
      "\u001b[A\u001b[A",
      "\n\n",
      "\rCurrent Satisfiability 0.922269):   3%|▎         | 29/1000 [00:35<19:40,  1.22s/it]",
      "\u001b[A\u001b[A",
      "\n\n",
      "\rCurrent Satisfiability 0.922269):   3%|▎         | 30/1000 [00:35<19:41,  1.22s/it]",
      "\u001b[A\u001b[A",
      "\n\n",
      "\rCurrent Satisfiability 0.925026):   3%|▎         | 30/1000 [00:37<19:41,  1.22s/it]",
      "\u001b[A\u001b[A",
      "\n\n",
      "\rCurrent Satisfiability 0.925026):   3%|▎         | 31/1000 [00:37<19:34,  1.21s/it]",
      "\u001b[A\u001b[A",
      "\n\n",
      "\rCurrent Satisfiability 0.927527):   3%|▎         | 31/1000 [00:38<19:34,  1.21s/it]",
      "\u001b[A\u001b[A",
      "\n\n",
      "\rCurrent Satisfiability 0.927527):   3%|▎         | 32/1000 [00:38<19:01,  1.18s/it]",
      "\u001b[A\u001b[A",
      "\n\n",
      "\rCurrent Satisfiability 0.929829):   3%|▎         | 32/1000 [00:39<19:01,  1.18s/it]",
      "\u001b[A\u001b[A",
      "\n\n",
      "\rCurrent Satisfiability 0.929829):   3%|▎         | 33/1000 [00:39<18:48,  1.17s/it]",
      "\u001b[A\u001b[A",
      "\n\n",
      "\rCurrent Satisfiability 0.932032):   3%|▎         | 33/1000 [00:40<18:48,  1.17s/it]",
      "\u001b[A\u001b[A",
      "\n\n",
      "\rCurrent Satisfiability 0.932032):   3%|▎         | 34/1000 [00:40<18:55,  1.18s/it]",
      "\u001b[A\u001b[A",
      "\n\n",
      "\rCurrent Satisfiability 0.934180):   3%|▎         | 34/1000 [00:41<18:55,  1.18s/it]",
      "\u001b[A\u001b[A",
      "\n\n",
      "\rCurrent Satisfiability 0.934180):   4%|▎         | 35/1000 [00:41<18:47,  1.17s/it]",
      "\u001b[A\u001b[A",
      "\n\n",
      "\rCurrent Satisfiability 0.936243):   4%|▎         | 35/1000 [00:42<18:47,  1.17s/it]",
      "\u001b[A\u001b[A",
      "\n\n",
      "\rCurrent Satisfiability 0.936243):   4%|▎         | 36/1000 [00:42<18:27,  1.15s/it]",
      "\u001b[A\u001b[A",
      "\n\n",
      "\rCurrent Satisfiability 0.938223):   4%|▎         | 36/1000 [00:43<18:27,  1.15s/it]",
      "\u001b[A\u001b[A",
      "\n\n",
      "\rCurrent Satisfiability 0.938223):   4%|▎         | 37/1000 [00:43<18:34,  1.16s/it]",
      "\u001b[A\u001b[A",
      "\n\n",
      "\rCurrent Satisfiability 0.940173):   4%|▎         | 37/1000 [00:45<18:34,  1.16s/it]",
      "\u001b[A\u001b[A",
      "\n\n",
      "\rCurrent Satisfiability 0.940173):   4%|▍         | 38/1000 [00:45<18:55,  1.18s/it]",
      "\u001b[A\u001b[A",
      "\n\n",
      "\rCurrent Satisfiability 0.942051):   4%|▍         | 38/1000 [00:46<18:55,  1.18s/it]",
      "\u001b[A\u001b[A",
      "\n\n",
      "\rCurrent Satisfiability 0.942051):   4%|▍         | 39/1000 [00:46<19:02,  1.19s/it]",
      "\u001b[A\u001b[A",
      "\n\n",
      "\rCurrent Satisfiability 0.943842):   4%|▍         | 39/1000 [00:47<19:02,  1.19s/it]",
      "\u001b[A\u001b[A",
      "\n\n",
      "\rCurrent Satisfiability 0.943842):   4%|▍         | 40/1000 [00:47<19:47,  1.24s/it]",
      "\u001b[A\u001b[A",
      "\n\n",
      "\rCurrent Satisfiability 0.945481):   4%|▍         | 40/1000 [00:48<19:47,  1.24s/it]",
      "\u001b[A\u001b[A",
      "\n\n",
      "\rCurrent Satisfiability 0.945481):   4%|▍         | 41/1000 [00:48<19:44,  1.24s/it]",
      "\u001b[A\u001b[A",
      "\n\n",
      "\rCurrent Satisfiability 0.947028):   4%|▍         | 41/1000 [00:50<19:44,  1.24s/it]",
      "\u001b[A\u001b[A",
      "\n\n",
      "\rCurrent Satisfiability 0.947028):   4%|▍         | 42/1000 [00:50<19:44,  1.24s/it]",
      "\u001b[A\u001b[A",
      "\n\n",
      "\rCurrent Satisfiability 0.948510):   4%|▍         | 42/1000 [00:51<19:44,  1.24s/it]",
      "\u001b[A\u001b[A",
      "\n\n",
      "\rCurrent Satisfiability 0.948510):   4%|▍         | 43/1000 [00:51<19:24,  1.22s/it]",
      "\u001b[A\u001b[A",
      "\n\n",
      "\rCurrent Satisfiability 0.949969):   4%|▍         | 43/1000 [00:52<19:24,  1.22s/it]",
      "\u001b[A\u001b[A",
      "\n\n",
      "\rCurrent Satisfiability 0.949969):   4%|▍         | 44/1000 [00:52<19:29,  1.22s/it]",
      "\u001b[A\u001b[A",
      "\n\n",
      "\rCurrent Satisfiability 0.951394):   4%|▍         | 44/1000 [00:53<19:29,  1.22s/it]",
      "\u001b[A\u001b[A",
      "\n\n",
      "\rCurrent Satisfiability 0.951394):   4%|▍         | 45/1000 [00:53<19:06,  1.20s/it]",
      "\u001b[A\u001b[A",
      "\n\n",
      "\rCurrent Satisfiability 0.952780):   4%|▍         | 45/1000 [00:55<19:06,  1.20s/it]",
      "\u001b[A\u001b[A",
      "\n\n",
      "\rCurrent Satisfiability 0.952780):   5%|▍         | 46/1000 [00:55<19:12,  1.21s/it]",
      "\u001b[A\u001b[A",
      "\n\n",
      "\rCurrent Satisfiability 0.954124):   5%|▍         | 46/1000 [00:56<19:12,  1.21s/it]",
      "\u001b[A\u001b[A",
      "\n\n",
      "\rCurrent Satisfiability 0.954124):   5%|▍         | 47/1000 [00:56<19:00,  1.20s/it]",
      "\u001b[A\u001b[A",
      "\n\n",
      "\rCurrent Satisfiability 0.955410):   5%|▍         | 47/1000 [00:57<19:00,  1.20s/it]",
      "\u001b[A\u001b[A",
      "\n\n",
      "\rCurrent Satisfiability 0.955410):   5%|▍         | 48/1000 [00:57<18:58,  1.20s/it]",
      "\u001b[A\u001b[A",
      "\n\n",
      "\rCurrent Satisfiability 0.956643):   5%|▍         | 48/1000 [00:58<18:58,  1.20s/it]",
      "\u001b[A\u001b[A",
      "\n\n",
      "\rCurrent Satisfiability 0.956643):   5%|▍         | 49/1000 [00:58<18:47,  1.19s/it]",
      "\u001b[A\u001b[A",
      "\n\n",
      "\rCurrent Satisfiability 0.957812):   5%|▍         | 49/1000 [00:59<18:47,  1.19s/it]",
      "\u001b[A\u001b[A",
      "\n\n",
      "\rCurrent Satisfiability 0.957812):   5%|▌         | 50/1000 [00:59<18:52,  1.19s/it]",
      "\u001b[A\u001b[A",
      "\n\n",
      "\rCurrent Satisfiability 0.958905):   5%|▌         | 50/1000 [01:00<18:52,  1.19s/it]",
      "\u001b[A\u001b[A",
      "\n\n",
      "\rCurrent Satisfiability 0.958905):   5%|▌         | 51/1000 [01:00<19:00,  1.20s/it]",
      "\u001b[A\u001b[A",
      "\n\n",
      "\rCurrent Satisfiability 0.959970):   5%|▌         | 51/1000 [01:02<19:00,  1.20s/it]",
      "\u001b[A\u001b[A",
      "\n\n",
      "\rCurrent Satisfiability 0.959970):   5%|▌         | 52/1000 [01:02<18:55,  1.20s/it]",
      "\u001b[A\u001b[A",
      "\n\n",
      "\rCurrent Satisfiability 0.961013):   5%|▌         | 52/1000 [01:03<18:55,  1.20s/it]",
      "\u001b[A\u001b[A",
      "\n\n",
      "\rCurrent Satisfiability 0.961013):   5%|▌         | 53/1000 [01:03<18:33,  1.18s/it]",
      "\u001b[A\u001b[A",
      "\n\n",
      "\rCurrent Satisfiability 0.962046):   5%|▌         | 53/1000 [01:04<18:33,  1.18s/it]",
      "\u001b[A\u001b[A",
      "\n\n",
      "\rCurrent Satisfiability 0.962046):   5%|▌         | 54/1000 [01:04<18:07,  1.15s/it]",
      "\u001b[A\u001b[A",
      "\n\n",
      "\rCurrent Satisfiability 0.963053):   5%|▌         | 54/1000 [01:05<18:07,  1.15s/it]",
      "\u001b[A\u001b[A",
      "\n\n",
      "\rCurrent Satisfiability 0.963053):   6%|▌         | 55/1000 [01:05<18:01,  1.14s/it]",
      "\u001b[A\u001b[A",
      "\n\n",
      "\rCurrent Satisfiability 0.964054):   6%|▌         | 55/1000 [01:06<18:01,  1.14s/it]",
      "\u001b[A\u001b[A",
      "\n\n",
      "\rCurrent Satisfiability 0.964054):   6%|▌         | 56/1000 [01:06<18:00,  1.14s/it]",
      "\u001b[A\u001b[A",
      "\n\n",
      "\rCurrent Satisfiability 0.965051):   6%|▌         | 56/1000 [01:07<18:00,  1.14s/it]",
      "\u001b[A\u001b[A",
      "\n\n",
      "\rCurrent Satisfiability 0.965051):   6%|▌         | 57/1000 [01:07<18:06,  1.15s/it]",
      "\u001b[A\u001b[A",
      "\n\n",
      "\rCurrent Satisfiability 0.966030):   6%|▌         | 57/1000 [01:08<18:06,  1.15s/it]",
      "\u001b[A\u001b[A",
      "\n\n",
      "\rCurrent Satisfiability 0.966030):   6%|▌         | 58/1000 [01:08<17:52,  1.14s/it]",
      "\u001b[A\u001b[A",
      "\n\n",
      "\rCurrent Satisfiability 0.966983):   6%|▌         | 58/1000 [01:10<17:52,  1.14s/it]",
      "\u001b[A\u001b[A",
      "\n\n",
      "\rCurrent Satisfiability 0.966983):   6%|▌         | 59/1000 [01:10<18:10,  1.16s/it]",
      "\u001b[A\u001b[A",
      "\n\n",
      "\rCurrent Satisfiability 0.967917):   6%|▌         | 59/1000 [01:11<18:10,  1.16s/it]",
      "\u001b[A\u001b[A",
      "\n\n",
      "\rCurrent Satisfiability 0.967917):   6%|▌         | 60/1000 [01:11<18:06,  1.16s/it]",
      "\u001b[A\u001b[A",
      "\n\n",
      "\rCurrent Satisfiability 0.968806):   6%|▌         | 60/1000 [01:12<18:06,  1.16s/it]",
      "\u001b[A\u001b[A",
      "\n\n",
      "\rCurrent Satisfiability 0.968806):   6%|▌         | 61/1000 [01:12<18:18,  1.17s/it]",
      "\u001b[A\u001b[A",
      "\n\n",
      "\rCurrent Satisfiability 0.969698):   6%|▌         | 61/1000 [01:13<18:18,  1.17s/it]",
      "\u001b[A\u001b[A",
      "\n\n",
      "\rCurrent Satisfiability 0.969698):   6%|▌         | 62/1000 [01:13<18:10,  1.16s/it]",
      "\u001b[A\u001b[A",
      "\n\n",
      "\rCurrent Satisfiability 0.970625):   6%|▌         | 62/1000 [01:14<18:10,  1.16s/it]",
      "\u001b[A\u001b[A",
      "\n\n",
      "\rCurrent Satisfiability 0.970625):   6%|▋         | 63/1000 [01:14<18:29,  1.18s/it]",
      "\u001b[A\u001b[A",
      "\n\n",
      "\rCurrent Satisfiability 0.971502):   6%|▋         | 63/1000 [01:16<18:29,  1.18s/it]",
      "\u001b[A\u001b[A",
      "\n\n",
      "\rCurrent Satisfiability 0.971502):   6%|▋         | 64/1000 [01:16<18:15,  1.17s/it]",
      "\u001b[A\u001b[A",
      "\n\n",
      "\rCurrent Satisfiability 0.972426):   6%|▋         | 64/1000 [01:17<18:15,  1.17s/it]",
      "\u001b[A\u001b[A",
      "\n\n",
      "\rCurrent Satisfiability 0.972426):   6%|▋         | 65/1000 [01:17<18:18,  1.17s/it]",
      "\u001b[A\u001b[A",
      "\n\n",
      "\rCurrent Satisfiability 0.973168):   6%|▋         | 65/1000 [01:18<18:18,  1.17s/it]",
      "\u001b[A\u001b[A",
      "\n\n",
      "\rCurrent Satisfiability 0.973168):   7%|▋         | 66/1000 [01:18<18:06,  1.16s/it]",
      "\u001b[A\u001b[A",
      "\n\n",
      "\rCurrent Satisfiability 0.973329):   7%|▋         | 66/1000 [01:19<18:06,  1.16s/it]",
      "\u001b[A\u001b[A",
      "\n\n",
      "\rCurrent Satisfiability 0.973329):   7%|▋         | 67/1000 [01:19<18:11,  1.17s/it]",
      "\u001b[A\u001b[A",
      "\n\n",
      "\rCurrent Satisfiability 0.974707):   7%|▋         | 67/1000 [01:20<18:11,  1.17s/it]",
      "\u001b[A\u001b[A",
      "\n\n",
      "\rCurrent Satisfiability 0.974707):   7%|▋         | 68/1000 [01:20<18:14,  1.17s/it]",
      "\u001b[A\u001b[A",
      "\n\n",
      "\rCurrent Satisfiability 0.974932):   7%|▋         | 68/1000 [01:21<18:14,  1.17s/it]",
      "\u001b[A\u001b[A",
      "\n\n",
      "\rCurrent Satisfiability 0.974932):   7%|▋         | 69/1000 [01:21<18:16,  1.18s/it]",
      "\u001b[A\u001b[A",
      "\n\n",
      "\rCurrent Satisfiability 0.975755):   7%|▋         | 69/1000 [01:23<18:16,  1.18s/it]",
      "\u001b[A\u001b[A",
      "\n\n",
      "\rCurrent Satisfiability 0.975755):   7%|▋         | 70/1000 [01:23<18:21,  1.18s/it]",
      "\u001b[A\u001b[A",
      "\n\n",
      "\rCurrent Satisfiability 0.976461):   7%|▋         | 70/1000 [01:24<18:21,  1.18s/it]",
      "\u001b[A\u001b[A",
      "\n\n",
      "\rCurrent Satisfiability 0.976461):   7%|▋         | 71/1000 [01:24<17:57,  1.16s/it]",
      "\u001b[A\u001b[A",
      "\n\n",
      "\rCurrent Satisfiability 0.977092):   7%|▋         | 71/1000 [01:25<17:57,  1.16s/it]",
      "\u001b[A\u001b[A",
      "\n\n",
      "\rCurrent Satisfiability 0.977092):   7%|▋         | 72/1000 [01:25<18:00,  1.16s/it]",
      "\u001b[A\u001b[A",
      "\n\n",
      "\rCurrent Satisfiability 0.977634):   7%|▋         | 72/1000 [01:26<18:00,  1.16s/it]",
      "\u001b[A\u001b[A",
      "\n\n",
      "\rCurrent Satisfiability 0.977634):   7%|▋         | 73/1000 [01:26<18:00,  1.17s/it]",
      "\u001b[A\u001b[A",
      "\n\n",
      "\rCurrent Satisfiability 0.977908):   7%|▋         | 73/1000 [01:27<18:00,  1.17s/it]",
      "\u001b[A\u001b[A",
      "\n\n",
      "\rCurrent Satisfiability 0.977908):   7%|▋         | 74/1000 [01:27<18:12,  1.18s/it]",
      "\u001b[A\u001b[A",
      "\n\n",
      "\rCurrent Satisfiability 0.978968):   7%|▋         | 74/1000 [01:28<18:12,  1.18s/it]",
      "\u001b[A\u001b[A",
      "\n\n",
      "\rCurrent Satisfiability 0.978968):   8%|▊         | 75/1000 [01:28<18:20,  1.19s/it]",
      "\u001b[A\u001b[A",
      "\n\n",
      "\rCurrent Satisfiability 0.978565):   8%|▊         | 75/1000 [01:30<18:20,  1.19s/it]",
      "\u001b[A\u001b[A",
      "\n\n",
      "\rCurrent Satisfiability 0.978565):   8%|▊         | 76/1000 [01:30<18:28,  1.20s/it]",
      "\u001b[A\u001b[A",
      "\n\n",
      "\rCurrent Satisfiability 0.979980):   8%|▊         | 76/1000 [01:31<18:28,  1.20s/it]",
      "\u001b[A\u001b[A",
      "\n\n",
      "\rCurrent Satisfiability 0.979980):   8%|▊         | 77/1000 [01:31<18:21,  1.19s/it]",
      "\u001b[A\u001b[A",
      "\n\n",
      "\rCurrent Satisfiability 0.979288):   8%|▊         | 77/1000 [01:32<18:21,  1.19s/it]",
      "\u001b[A\u001b[A",
      "\n\n",
      "\rCurrent Satisfiability 0.979288):   8%|▊         | 78/1000 [01:32<18:56,  1.23s/it]",
      "\u001b[A\u001b[A",
      "\n\n",
      "\rCurrent Satisfiability 0.979668):   8%|▊         | 78/1000 [01:33<18:56,  1.23s/it]",
      "\u001b[A\u001b[A",
      "\n\n",
      "\rCurrent Satisfiability 0.979668):   8%|▊         | 79/1000 [01:33<18:43,  1.22s/it]",
      "\u001b[A\u001b[A",
      "\n\n",
      "\rCurrent Satisfiability 0.981666):   8%|▊         | 79/1000 [01:35<18:43,  1.22s/it]",
      "\u001b[A\u001b[A",
      "\n\n",
      "\rCurrent Satisfiability 0.981666):   8%|▊         | 80/1000 [01:35<18:30,  1.21s/it]",
      "\u001b[A\u001b[A",
      "\n\n",
      "\rCurrent Satisfiability 0.980491):   8%|▊         | 80/1000 [01:36<18:30,  1.21s/it]",
      "\u001b[A\u001b[A",
      "\n\n",
      "\rCurrent Satisfiability 0.980491):   8%|▊         | 81/1000 [01:36<18:30,  1.21s/it]",
      "\u001b[A\u001b[A",
      "\n\n",
      "\rCurrent Satisfiability 0.980393):   8%|▊         | 81/1000 [01:37<18:30,  1.21s/it]",
      "\u001b[A\u001b[A",
      "\n\n",
      "\rCurrent Satisfiability 0.980393):   8%|▊         | 82/1000 [01:37<18:37,  1.22s/it]",
      "\u001b[A\u001b[A",
      "\n\n",
      "\rCurrent Satisfiability 0.982191):   8%|▊         | 82/1000 [01:38<18:37,  1.22s/it]",
      "\u001b[A\u001b[A",
      "\n\n",
      "\rCurrent Satisfiability 0.982191):   8%|▊         | 83/1000 [01:38<18:24,  1.20s/it]",
      "\u001b[A\u001b[A",
      "\n\n",
      "\rCurrent Satisfiability 0.983682):   8%|▊         | 83/1000 [01:39<18:24,  1.20s/it]",
      "\u001b[A\u001b[A",
      "\n\n",
      "\rCurrent Satisfiability 0.983682):   8%|▊         | 84/1000 [01:39<18:13,  1.19s/it]",
      "\u001b[A\u001b[A",
      "\n\n",
      "\rCurrent Satisfiability 0.983397):   8%|▊         | 84/1000 [01:40<18:13,  1.19s/it]",
      "\u001b[A\u001b[A",
      "\n\n",
      "\rCurrent Satisfiability 0.983397):   8%|▊         | 85/1000 [01:41<18:03,  1.18s/it]",
      "\u001b[A\u001b[A",
      "\n\n",
      "\rCurrent Satisfiability 0.984646):   8%|▊         | 85/1000 [01:42<18:03,  1.18s/it]",
      "\u001b[A\u001b[A",
      "\n\n",
      "\rCurrent Satisfiability 0.984646):   9%|▊         | 86/1000 [01:42<17:53,  1.17s/it]",
      "\u001b[A\u001b[A",
      "\n\n",
      "\rCurrent Satisfiability 0.985280):   9%|▊         | 86/1000 [01:43<17:53,  1.17s/it]",
      "\u001b[A\u001b[A",
      "\n\n",
      "\rCurrent Satisfiability 0.985280):   9%|▊         | 87/1000 [01:43<17:38,  1.16s/it]",
      "\u001b[A\u001b[A",
      "\n\n",
      "\rCurrent Satisfiability 0.985455):   9%|▊         | 87/1000 [01:44<17:38,  1.16s/it]",
      "\u001b[A\u001b[A",
      "\n\n",
      "\rCurrent Satisfiability 0.985455):   9%|▉         | 88/1000 [01:44<17:51,  1.17s/it]",
      "\u001b[A\u001b[A",
      "\n\n",
      "\rCurrent Satisfiability 0.987043):   9%|▉         | 88/1000 [01:45<17:51,  1.17s/it]",
      "\u001b[A\u001b[A",
      "\n\n",
      "\rCurrent Satisfiability 0.987043):   9%|▉         | 89/1000 [01:45<17:45,  1.17s/it]",
      "\u001b[A\u001b[A",
      "\n\n",
      "\rCurrent Satisfiability 0.986294):   9%|▉         | 89/1000 [01:46<17:45,  1.17s/it]",
      "\u001b[A\u001b[A",
      "\n\n",
      "\rCurrent Satisfiability 0.986294):   9%|▉         | 90/1000 [01:46<17:46,  1.17s/it]",
      "\u001b[A\u001b[A",
      "\n\n",
      "\rCurrent Satisfiability 0.986637):   9%|▉         | 90/1000 [01:48<17:46,  1.17s/it]",
      "\u001b[A\u001b[A",
      "\n\n",
      "\rCurrent Satisfiability 0.986637):   9%|▉         | 91/1000 [01:48<17:48,  1.18s/it]",
      "\u001b[A\u001b[A",
      "\n\n",
      "\rCurrent Satisfiability 0.988273):   9%|▉         | 91/1000 [01:49<17:48,  1.18s/it]",
      "\u001b[A\u001b[A",
      "\n\n",
      "\rCurrent Satisfiability 0.988273):   9%|▉         | 92/1000 [01:49<17:34,  1.16s/it]",
      "\u001b[A\u001b[A",
      "\n\n",
      "\rCurrent Satisfiability 0.987304):   9%|▉         | 92/1000 [01:50<17:34,  1.16s/it]",
      "\u001b[A\u001b[A",
      "\n\n",
      "\rCurrent Satisfiability 0.987304):   9%|▉         | 93/1000 [01:50<18:00,  1.19s/it]",
      "\u001b[A\u001b[A",
      "\n\n",
      "\rCurrent Satisfiability 0.987058):   9%|▉         | 93/1000 [01:51<18:00,  1.19s/it]",
      "\u001b[A\u001b[A",
      "\n\n",
      "\rCurrent Satisfiability 0.987058):   9%|▉         | 94/1000 [01:51<18:21,  1.22s/it]",
      "\u001b[A\u001b[A",
      "\n\n",
      "\rCurrent Satisfiability 0.988484):   9%|▉         | 94/1000 [01:52<18:21,  1.22s/it]",
      "\u001b[A\u001b[A",
      "\n\n",
      "\rCurrent Satisfiability 0.988484):  10%|▉         | 95/1000 [01:52<18:27,  1.22s/it]",
      "\u001b[A\u001b[A",
      "\n\n",
      "\rCurrent Satisfiability 0.989502):  10%|▉         | 95/1000 [01:54<18:27,  1.22s/it]",
      "\u001b[A\u001b[A",
      "\n\n",
      "\rCurrent Satisfiability 0.989502):  10%|▉         | 96/1000 [01:54<18:01,  1.20s/it]",
      "\u001b[A\u001b[A",
      "\n\n",
      "\rCurrent Satisfiability 0.989036):  10%|▉         | 96/1000 [01:55<18:01,  1.20s/it]",
      "\u001b[A\u001b[A",
      "\n\n",
      "\rCurrent Satisfiability 0.989036):  10%|▉         | 97/1000 [01:55<18:08,  1.21s/it]",
      "\u001b[A\u001b[A",
      "\n\n",
      "\rCurrent Satisfiability 0.989965):  10%|▉         | 97/1000 [01:56<18:08,  1.21s/it]",
      "\u001b[A\u001b[A",
      "\n\n",
      "\rCurrent Satisfiability 0.989965):  10%|▉         | 98/1000 [01:56<17:58,  1.20s/it]",
      "\u001b[A\u001b[A"
     ],
     "output_type": "stream"
    }
   ],
   "source": [
    "ll.fit(epochs=1000, grouping=1000)"
   ]
  },
  {
   "cell_type": "code",
   "execution_count": 47,
   "metadata": {
    "pycharm": {
     "is_executing": false
    }
   },
   "outputs": [
    {
     "data": {
      "text/plain": "<Figure size 432x288 with 1 Axes>",
      "image/png": "[encoded data removed]"
     },
     "metadata": {
      "needs_background": "light"
     },
     "output_type": "display_data"
    }
   ],
   "source": [
    "import numpy as np\n",
    "men = np.array([np.array([ll.reason('Male({})'.format(a))]) for a, b in ll.constants.items()])\n",
    "women = np.array([np.array([ll.reason('Female({})'.format(a))]) for a, b in ll.constants.items()])\n",
    "\n",
    "fig, ax = plt.subplots()\n",
    "ax.bar(np.arange(len(ll.constants))-.1,men[:,0],width=.2,label=\"Male\")\n",
    "ax.bar(np.arange(len(ll.constants))+.1,women[:,0],width=.2,label=\"Female\")\n",
    "ax.set_xticks(np.arange(len(ll.constants)))\n",
    "ax.set_xticklabels(ll.constants.keys(),rotation='vertical')\n",
    "ax.set_ylabel(\"Truth value\")\n",
    "ax.set_ylim(0,1)\n",
    "ax.legend()\n",
    "plt.show()"
   ]
  },
  {
   "cell_type": "code",
   "execution_count": 25,
   "metadata": {
    "pycharm": {
     "is_executing": false
    }
   },
   "outputs": [
    {
     "data": {
      "text/plain": "<Figure size 432x288 with 1 Axes>",
      "image/png": "[encoded data removed]"
     },
     "metadata": {
      "needs_background": "light"
     },
     "output_type": "display_data"
    }
   ],
   "source": [
    "import matplotlib.pyplot as plt\n",
    "%matplotlib inline\n",
    "values_of_constants = np.array([b.detach().numpy() for a,b in ll.constants.items()])\n",
    "plt.scatter(values_of_constants[:3,0],values_of_constants[:3,1],c='b')\n",
    "plt.scatter(values_of_constants[3:6,0],values_of_constants[3:6,1],c='r')\n",
    "plt.scatter(values_of_constants[6:,0],values_of_constants[6:,1],c='k')\n",
    "\n",
    "for a,b in ll.constants.items():\n",
    "    plt.annotate(a,b.detach().numpy()+.01)\n",
    "plt.title(\"Featurs of the constants John, ..., Mary, ... Person1, Person2\")\n",
    "plt.show()\n"
   ]
  },
  {
   "cell_type": "code",
   "execution_count": 48,
   "metadata": {
    "pycharm": {
     "is_executing": false
    }
   },
   "outputs": [
    {
     "data": {
      "text/plain": "<Figure size 432x288 with 2 Axes>",
      "image/png": "[encoded data removed]"
     },
     "metadata": {
      "needs_background": "light"
     },
     "output_type": "display_data"
    }
   ],
   "source": [
    "play = np.array([[ll.reason('CanPlayWith({},{})'.format(c,d)) \n",
    "                  for c in ll.constants.keys()] for d in ll.constants.keys()])\n",
    "import seaborn as sns\n",
    "plt.clf()\n",
    "ax = sns.heatmap(play, linewidth=0.5)\n",
    "ax.set_yticklabels(ll.constants.keys(),rotation='horizontal')\n",
    "ax.set_xticklabels(ll.constants.keys(),rotation='vertical')\n",
    "plt.show()"
   ]
  },
  {
   "cell_type": "code",
   "execution_count": null,
   "metadata": {
    "pycharm": {
     "is_executing": false
    }
   },
   "outputs": [],
   "source": [
    "ll.reason(\"CanPlayWith(Person2,Person2)\")"
   ]
  },
  {
   "cell_type": "code",
   "execution_count": null,
   "outputs": [],
   "source": [
    "import torch\n",
    "\n",
    "ll.function('opponent',2,2) \n",
    "\n",
    "class equal_simple(torch.nn.Module):\n",
    "\n",
    "    def __init__(self):\n",
    "        super(equal_simple, self).__init__()\n",
    "        self.system = False\n",
    "\n",
    "    def forward(self, x, y):\n",
    "        delta = torch.nn.PairwiseDistance()(x,y)\n",
    "        similarity = torch.exp(-delta).reshape(-1,1)\n",
    "        return similarity"
   ],
   "metadata": {
    "collapsed": false,
    "pycharm": {
     "name": "#%%\n",
     "is_executing": false
    }
   }
  },
  {
   "cell_type": "code",
   "execution_count": null,
   "outputs": [],
   "source": [
    "ll.predicate(\"equal\", network=equal_simple())\n"
   ],
   "metadata": {
    "collapsed": false,
    "pycharm": {
     "name": "#%%\n",
     "is_executing": false
    }
   }
  },
  {
   "cell_type": "code",
   "execution_count": null,
   "outputs": [],
   "source": [
    "ll.universal_rule('forall ?x:CanPlayWith(?x,opponent(?x))')\n",
    "ll.universal_rule('forall ?x:(Male(?x) % Female(opponent(?x)))')\n",
    "ll.universal_rule('forall ?x:(Female(?x) % Male(opponent(?x)))')\n",
    "\n",
    "ll.universal_rule('forall ?x,?y: equal(opponent(?x),?y) -> equal(opponent(?y),?x)')\n",
    "\n",
    "ll.knowledge('equal(opponent(John),Mary)')\n",
    "ll.knowledge('equal(opponent(Mina),Jack)')\n",
    "ll.knowledge('equal(opponent(Meggy),Person2)')"
   ],
   "metadata": {
    "collapsed": false,
    "pycharm": {
     "name": "#%%\n",
     "is_executing": false
    }
   }
  },
  {
   "cell_type": "code",
   "execution_count": null,
   "outputs": [],
   "source": [
    "ll.learn(epochs=1000, batch_size=1000)"
   ],
   "metadata": {
    "collapsed": false,
    "pycharm": {
     "name": "#%%\n",
     "is_executing": false
    }
   }
  },
  {
   "cell_type": "code",
   "execution_count": null,
   "outputs": [],
   "source": [
    "\n"
   ],
   "metadata": {
    "collapsed": false,
    "pycharm": {
     "name": "#%%\n",
     "is_executing": false
    }
   }
  }
 ],
 "metadata": {
  "kernelspec": {
   "display_name": "pymetheus_kernel",
   "language": "python",
   "name": "pymetheus_kernel"
  },
  "language_info": {
   "codemirror_mode": {
    "name": "ipython",
    "version": 3
   },
   "file_extension": ".py",
   "mimetype": "text/x-python",
   "name": "python",
   "nbconvert_exporter": "python",
   "pygments_lexer": "ipython3",
   "version": "3.7.5"
  },
  "pycharm": {
   "stem_cell": {
    "cell_type": "raw",
    "source": [],
    "metadata": {
     "collapsed": false
    }
   }
  }
 },
 "nbformat": 4,
 "nbformat_minor": 2
}
